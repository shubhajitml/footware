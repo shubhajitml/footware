{
 "cells": [
  {
   "cell_type": "code",
   "execution_count": 1,
   "metadata": {},
   "outputs": [],
   "source": [
    "%load_ext autoreload\n",
    "%autoreload 2\n",
    "%matplotlib inline"
   ]
  },
  {
   "cell_type": "markdown",
   "metadata": {},
   "source": [
    "### Fynd data"
   ]
  },
  {
   "cell_type": "code",
   "execution_count": 2,
   "metadata": {},
   "outputs": [],
   "source": [
    "import numpy as np \n",
    "import pandas as pd \n",
    "import sys, requests, shutil, os\n",
    "from urllib import request, error"
   ]
  },
  {
   "cell_type": "code",
   "execution_count": 7,
   "metadata": {
    "scrolled": true
   },
   "outputs": [
    {
     "name": "stdout",
     "output_type": "stream",
     "text": [
      "['download_imgs.py', 'Internship_data.csv', 'footware.ipynb', '.ipynb_checkpoints']\n"
     ]
    },
    {
     "data": {
      "text/html": [
       "<div>\n",
       "<style scoped>\n",
       "    .dataframe tbody tr th:only-of-type {\n",
       "        vertical-align: middle;\n",
       "    }\n",
       "\n",
       "    .dataframe tbody tr th {\n",
       "        vertical-align: top;\n",
       "    }\n",
       "\n",
       "    .dataframe thead th {\n",
       "        text-align: right;\n",
       "    }\n",
       "</style>\n",
       "<table border=\"1\" class=\"dataframe\">\n",
       "  <thead>\n",
       "    <tr style=\"text-align: right;\">\n",
       "      <th></th>\n",
       "      <th>id</th>\n",
       "      <th>view_1</th>\n",
       "      <th>view_2</th>\n",
       "      <th>view_3</th>\n",
       "      <th>view_4</th>\n",
       "      <th>view_5</th>\n",
       "      <th>class</th>\n",
       "    </tr>\n",
       "  </thead>\n",
       "  <tbody>\n",
       "    <tr>\n",
       "      <th>0</th>\n",
       "      <td>3213e9e9da734c268db6bed4b76ea411.jpg</td>\n",
       "      <td>https://vision-images-store.s3.amazonaws.com/i...</td>\n",
       "      <td>https://vision-images-store.s3.amazonaws.com/i...</td>\n",
       "      <td>https://vision-images-store.s3.amazonaws.com/i...</td>\n",
       "      <td>https://vision-images-store.s3.amazonaws.com/i...</td>\n",
       "      <td>https://vision-images-store.s3.amazonaws.com/i...</td>\n",
       "      <td>zipper</td>\n",
       "    </tr>\n",
       "    <tr>\n",
       "      <th>1</th>\n",
       "      <td>3a4e9c2704bb46afb5a43c3231974e04.jpg</td>\n",
       "      <td>https://vision-images-store.s3.amazonaws.com/i...</td>\n",
       "      <td>https://vision-images-store.s3.amazonaws.com/i...</td>\n",
       "      <td>https://vision-images-store.s3.amazonaws.com/i...</td>\n",
       "      <td>https://vision-images-store.s3.amazonaws.com/i...</td>\n",
       "      <td>https://vision-images-store.s3.amazonaws.com/i...</td>\n",
       "      <td>zipper</td>\n",
       "    </tr>\n",
       "    <tr>\n",
       "      <th>2</th>\n",
       "      <td>48d93cb06ede452fbab83495a4ff17a6.jpg</td>\n",
       "      <td>https://vision-images-store.s3.amazonaws.com/i...</td>\n",
       "      <td>https://vision-images-store.s3.amazonaws.com/i...</td>\n",
       "      <td>https://vision-images-store.s3.amazonaws.com/i...</td>\n",
       "      <td>https://vision-images-store.s3.amazonaws.com/i...</td>\n",
       "      <td>https://vision-images-store.s3.amazonaws.com/i...</td>\n",
       "      <td>zipper</td>\n",
       "    </tr>\n",
       "    <tr>\n",
       "      <th>3</th>\n",
       "      <td>c7d91a112c6341eb84ed8e62ea4d6aa8.jpg</td>\n",
       "      <td>https://vision-images-store.s3.amazonaws.com/i...</td>\n",
       "      <td>https://vision-images-store.s3.amazonaws.com/i...</td>\n",
       "      <td>https://vision-images-store.s3.amazonaws.com/i...</td>\n",
       "      <td>https://vision-images-store.s3.amazonaws.com/i...</td>\n",
       "      <td>https://vision-images-store.s3.amazonaws.com/i...</td>\n",
       "      <td>zipper</td>\n",
       "    </tr>\n",
       "    <tr>\n",
       "      <th>4</th>\n",
       "      <td>5cb6f2cdd3a244af9d9640be6e65b4f0.jpg</td>\n",
       "      <td>https://vision-images-store.s3.amazonaws.com/i...</td>\n",
       "      <td>https://vision-images-store.s3.amazonaws.com/i...</td>\n",
       "      <td>https://vision-images-store.s3.amazonaws.com/i...</td>\n",
       "      <td>https://vision-images-store.s3.amazonaws.com/i...</td>\n",
       "      <td>https://vision-images-store.s3.amazonaws.com/i...</td>\n",
       "      <td>zipper</td>\n",
       "    </tr>\n",
       "  </tbody>\n",
       "</table>\n",
       "</div>"
      ],
      "text/plain": [
       "                                     id  \\\n",
       "0  3213e9e9da734c268db6bed4b76ea411.jpg   \n",
       "1  3a4e9c2704bb46afb5a43c3231974e04.jpg   \n",
       "2  48d93cb06ede452fbab83495a4ff17a6.jpg   \n",
       "3  c7d91a112c6341eb84ed8e62ea4d6aa8.jpg   \n",
       "4  5cb6f2cdd3a244af9d9640be6e65b4f0.jpg   \n",
       "\n",
       "                                              view_1  \\\n",
       "0  https://vision-images-store.s3.amazonaws.com/i...   \n",
       "1  https://vision-images-store.s3.amazonaws.com/i...   \n",
       "2  https://vision-images-store.s3.amazonaws.com/i...   \n",
       "3  https://vision-images-store.s3.amazonaws.com/i...   \n",
       "4  https://vision-images-store.s3.amazonaws.com/i...   \n",
       "\n",
       "                                              view_2  \\\n",
       "0  https://vision-images-store.s3.amazonaws.com/i...   \n",
       "1  https://vision-images-store.s3.amazonaws.com/i...   \n",
       "2  https://vision-images-store.s3.amazonaws.com/i...   \n",
       "3  https://vision-images-store.s3.amazonaws.com/i...   \n",
       "4  https://vision-images-store.s3.amazonaws.com/i...   \n",
       "\n",
       "                                              view_3  \\\n",
       "0  https://vision-images-store.s3.amazonaws.com/i...   \n",
       "1  https://vision-images-store.s3.amazonaws.com/i...   \n",
       "2  https://vision-images-store.s3.amazonaws.com/i...   \n",
       "3  https://vision-images-store.s3.amazonaws.com/i...   \n",
       "4  https://vision-images-store.s3.amazonaws.com/i...   \n",
       "\n",
       "                                              view_4  \\\n",
       "0  https://vision-images-store.s3.amazonaws.com/i...   \n",
       "1  https://vision-images-store.s3.amazonaws.com/i...   \n",
       "2  https://vision-images-store.s3.amazonaws.com/i...   \n",
       "3  https://vision-images-store.s3.amazonaws.com/i...   \n",
       "4  https://vision-images-store.s3.amazonaws.com/i...   \n",
       "\n",
       "                                              view_5   class  \n",
       "0  https://vision-images-store.s3.amazonaws.com/i...  zipper  \n",
       "1  https://vision-images-store.s3.amazonaws.com/i...  zipper  \n",
       "2  https://vision-images-store.s3.amazonaws.com/i...  zipper  \n",
       "3  https://vision-images-store.s3.amazonaws.com/i...  zipper  \n",
       "4  https://vision-images-store.s3.amazonaws.com/i...  zipper  "
      ]
     },
     "execution_count": 7,
     "metadata": {},
     "output_type": "execute_result"
    }
   ],
   "source": [
    "print(os.listdir(\"./\"))\n",
    "data=pd.read_csv('./Internship_data.csv')\n",
    "data.head(5)"
   ]
  },
  {
   "cell_type": "code",
   "execution_count": null,
   "metadata": {},
   "outputs": [],
   "source": [
    "os.makedirs('./train/', exist_ok=True)\n",
    "print(os.listdir())"
   ]
  },
  {
   "cell_type": "code",
   "execution_count": 37,
   "metadata": {},
   "outputs": [],
   "source": [
    "def fetch_image(link):\n",
    "    url=link\n",
    "    response=requests.get(url, stream=True)\n",
    "    with open('./train/image.jpg', 'wb') as out_file:\n",
    "        shutil.copyfileobj(response.raw, out_file)\n",
    "    del response\n",
    "\n",
    "def get_all_imgs(link, i):\n",
    "    os.makedirs('./train/'+data['class'][i], exist_ok=True)\n",
    "    fetch_image(link)\n",
    "    os.rename('./train/image.jpg', './train/'+ data['class'][i]+'/'+data['id'][i])\n",
    "\n",
    "\n",
    "for i, (link1, link2, link3, link4, link5) in enumerate(zip(data['view_1'], data['view_2'], data['view_3'], data['view_4'], data['view_5'])):\n",
    "    get_all_imgs(link1, i)\n",
    "    get_all_imgs(link2, i)\n",
    "    get_all_imgs(link3, i)\n",
    "    get_all_imgs(link4, i)\n",
    "    get_all_imgs(link5, i)    "
   ]
  },
  {
   "cell_type": "markdown",
   "metadata": {},
   "source": [
    "## image scraping"
   ]
  },
  {
   "cell_type": "code",
   "execution_count": 2,
   "metadata": {},
   "outputs": [],
   "source": [
    "from fastai.vision import *\n",
    "from pathlib import Path"
   ]
  },
  {
   "cell_type": "code",
   "execution_count": 15,
   "metadata": {},
   "outputs": [],
   "source": [
    "folder = 'backstrap'\n",
    "file = 'backstrap.csv'"
   ]
  },
  {
   "cell_type": "code",
   "execution_count": 16,
   "metadata": {},
   "outputs": [],
   "source": [
    "path = Path('dataset/valid')\n",
    "dest = path/folder\n",
    "dest.mkdir(parents=True, exist_ok=True)\n",
    "\n",
    "download_images(path/file, dest, max_pics=230)"
   ]
  },
  {
   "cell_type": "code",
   "execution_count": 24,
   "metadata": {},
   "outputs": [],
   "source": [
    "folder = 'buckle'\n",
    "file = 'buckle.csv'"
   ]
  },
  {
   "cell_type": "code",
   "execution_count": null,
   "metadata": {
    "scrolled": true
   },
   "outputs": [],
   "source": [
    "path = Path('dataset/valid')\n",
    "dest = path/folder\n",
    "dest.mkdir(parents=True, exist_ok=True)\n",
    "\n",
    "download_images(path/file, dest, max_pics=230)"
   ]
  },
  {
   "cell_type": "code",
   "execution_count": null,
   "metadata": {},
   "outputs": [],
   "source": [
    "folder = 'hook&look'\n",
    "file = 'hook&look.csv'"
   ]
  },
  {
   "cell_type": "code",
   "execution_count": 26,
   "metadata": {},
   "outputs": [],
   "source": [
    "path = Path('dataset/valid')\n",
    "dest = path/folder\n",
    "dest.mkdir(parents=True, exist_ok=True)\n",
    "\n",
    "download_images(path/file, dest, max_pics=230)"
   ]
  },
  {
   "cell_type": "code",
   "execution_count": 27,
   "metadata": {},
   "outputs": [],
   "source": [
    "folder = 'lace_up'\n",
    "file = 'lace_up.csv'"
   ]
  },
  {
   "cell_type": "code",
   "execution_count": null,
   "metadata": {},
   "outputs": [],
   "source": [
    "path = Path('dataset/valid')\n",
    "dest = path/folder\n",
    "dest.mkdir(parents=True, exist_ok=True)\n",
    "\n",
    "download_images(path/file, dest, max_pics=230)"
   ]
  },
  {
   "cell_type": "code",
   "execution_count": 33,
   "metadata": {},
   "outputs": [],
   "source": [
    "folder = 'slip_on'\n",
    "file = 'slip_on.csv'"
   ]
  },
  {
   "cell_type": "code",
   "execution_count": 34,
   "metadata": {},
   "outputs": [],
   "source": [
    "path = Path('dataset/valid')\n",
    "dest = path/folder\n",
    "dest.mkdir(parents=True, exist_ok=True)\n",
    "\n",
    "download_images(path/file, dest, max_pics=230)"
   ]
  },
  {
   "cell_type": "code",
   "execution_count": 31,
   "metadata": {},
   "outputs": [],
   "source": [
    "folder = 'zipper'\n",
    "file = 'zipper.csv'"
   ]
  },
  {
   "cell_type": "code",
   "execution_count": 32,
   "metadata": {},
   "outputs": [],
   "source": [
    "path = Path('dataset/valid')\n",
    "dest = path/folder\n",
    "dest.mkdir(parents=True, exist_ok=True)\n",
    "\n",
    "download_images(path/file, dest, max_pics=230)"
   ]
  },
  {
   "cell_type": "code",
   "execution_count": 35,
   "metadata": {},
   "outputs": [],
   "source": [
    "classes = ['backstrap', 'buckle', 'hook&look', 'lace_up', 'slip_on', 'zipper']"
   ]
  },
  {
   "cell_type": "code",
   "execution_count": 36,
   "metadata": {},
   "outputs": [],
   "source": [
    "for c in classes:\n",
    "    print(c)\n",
    "    verify_images(path/c, delete=True, max_size=500)"
   ]
  },
  {
   "cell_type": "code",
   "execution_count": null,
   "metadata": {},
   "outputs": [],
   "source": []
  }
 ],
 "metadata": {
  "kernelspec": {
   "display_name": "Python 3",
   "language": "python",
   "name": "python3"
  },
  "language_info": {
   "codemirror_mode": {
    "name": "ipython",
    "version": 3
   },
   "file_extension": ".py",
   "mimetype": "text/x-python",
   "name": "python",
   "nbconvert_exporter": "python",
   "pygments_lexer": "ipython3",
   "version": "3.6.8"
  }
 },
 "nbformat": 4,
 "nbformat_minor": 2
}
